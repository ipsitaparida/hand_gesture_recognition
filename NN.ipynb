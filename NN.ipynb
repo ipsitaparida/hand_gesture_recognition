{
 "cells": [
  {
   "cell_type": "code",
   "execution_count": null,
   "metadata": {},
   "outputs": [],
   "source": [
    "import scipy.io\n",
    "import numpy as np\n",
    "from sklearn.preprocessing import scale, LabelBinarizer\n",
    "from keras.models import Sequential\n",
    "from keras.layers.core import Dense"
   ]
  },
  {
   "cell_type": "code",
   "execution_count": 3,
   "metadata": {},
   "outputs": [],
   "source": [
    "fname = \"data/train_4.mat\"\n",
    "train_mat = scipy.io.loadmat(fname)\n",
    "fname = \"data/test_4.mat\"\n",
    "test_mat = scipy.io.loadmat(fname)\n",
    "\n",
    "dataset = train_mat.get(\"feat\") # or use emg_data_train for using all 16 gestures\n",
    "trainX = []\n",
    "trainY = []\n",
    "for i, entry in np.ndenumerate(dataset):\n",
    "    # i is a tuple of (row, column)\n",
    "    # save readings into data array\n",
    "    trainX.append(dataset[i[0],i[1]])\n",
    "    # gesture class is put into labels array\n",
    "    trainY.append(i[1])\n",
    "\n",
    "# similarly do for the test data\n",
    "dataset = test_mat.get(\"feat\") # or use emg_data_test for using all 16 gestures\n",
    "testX = []\n",
    "testY = []\n",
    "for i, entry in np.ndenumerate(dataset):\n",
    "    testX.append(dataset[i[0],i[1]])\n",
    "    testY.append(i[1])\n"
   ]
  },
  {
   "cell_type": "code",
   "execution_count": 4,
   "metadata": {},
   "outputs": [],
   "source": [
    "# convert the labels from integers/categories to vectors \n",
    "lb = LabelBinarizer()\n",
    "trainY = lb.fit_transform(trainY)   # fit_transform = find all unique class labels + transform into one-hot encoded labels\n",
    "testY = lb.transform(testY)         # transform = perform the one-hot encoding (unique class labels already found)"
   ]
  },
  {
   "cell_type": "code",
   "execution_count": 5,
   "metadata": {},
   "outputs": [
    {
     "data": {
      "text/plain": [
       "array([0, 1, 2, 3])"
      ]
     },
     "execution_count": 5,
     "metadata": {},
     "output_type": "execute_result"
    }
   ],
   "source": [
    "lb.classes_"
   ]
  },
  {
   "cell_type": "markdown",
   "metadata": {},
   "source": [
    "Define neural network architecture using Keras"
   ]
  },
  {
   "cell_type": "code",
   "execution_count": null,
   "metadata": {},
   "outputs": [],
   "source": [
    "model = Sequential()   # input layer 3072 as there are 32x32x3=3072 pixels in a flattened input image\n",
    "model.add(Dense(1024, input_shape=(3072,), activation=\"relu\"))   \n",
    "model.add(Dense(512, activation=\"relu\"))                         \n",
    "model.add(Dense(len(lb.classes_), activation=\"softmax\"))    "
   ]
  }
 ],
 "metadata": {
  "interpreter": {
   "hash": "0ecc5173e59f86e4f06b6e4f247af3666d8e121b00fcf891f2eafc4325052d6e"
  },
  "kernelspec": {
   "display_name": "Python 3.9.13 ('base')",
   "language": "python",
   "name": "python3"
  },
  "language_info": {
   "codemirror_mode": {
    "name": "ipython",
    "version": 3
   },
   "file_extension": ".py",
   "mimetype": "text/x-python",
   "name": "python",
   "nbconvert_exporter": "python",
   "pygments_lexer": "ipython3",
   "version": "3.9.13"
  },
  "orig_nbformat": 4
 },
 "nbformat": 4,
 "nbformat_minor": 2
}
