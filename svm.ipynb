{
 "cells": [
  {
   "cell_type": "code",
   "execution_count": 51,
   "metadata": {},
   "outputs": [],
   "source": [
    "import scipy.io\n",
    "from sklearn import svm\n",
    "from sklearn.metrics import accuracy_score\n",
    "import numpy as np\n",
    "from sklearn.preprocessing import LabelBinarizer"
   ]
  },
  {
   "cell_type": "code",
   "execution_count": 52,
   "metadata": {},
   "outputs": [],
   "source": [
    "def load_dataset():\n",
    "    fname = \"data/train_4.mat\"\n",
    "    train_mat = scipy.io.loadmat(fname)\n",
    "    fname = \"data/test_4.mat\"\n",
    "    test_mat = scipy.io.loadmat(fname)\n",
    "\n",
    "    dataset = train_mat.get(\"feat\") # or use emg_data_train for using all 16 gestures\n",
    "    x = []\n",
    "    y = []\n",
    "    for i, entry in np.ndenumerate(dataset):\n",
    "        # i is a tuple of (row, column)\n",
    "        # save readings into data array\n",
    "        x.append(dataset[i[0],i[1]])\n",
    "        # gesture class is put into labels array\n",
    "        y.append(i[1])\n",
    "    trainX = np.array(x)\n",
    "    # trainy = np.array(y)\n",
    "    trainy = np.char.mod('%d', y)\n",
    "\n",
    "    # similarly do for the test data\n",
    "    dataset = test_mat.get(\"feat\") # or use emg_data_test for using all 16 gestures\n",
    "    x = []\n",
    "    y = []\n",
    "    for i, entry in np.ndenumerate(dataset):\n",
    "        x.append(dataset[i[0],i[1]])\n",
    "        y.append(i[1])\n",
    "    testX = np.array(x)\n",
    "    # testy = np.array(y)\n",
    "    testy = np.char.mod('%d', y)\n",
    "    # testy = y\n",
    "\n",
    "    # print('Train: X=%s, y=%s' % (trainX.shape, trainy.shape))\n",
    "    # print('Test: X=%s, y=%s' % (testX.shape, testy.shape))\n",
    "    # convert the labels from integers/categories to vectors \n",
    "    # lb = LabelBinarizer()\n",
    "    # trainy = lb.fit_transform(trainy)   # fit_transform = find all unique class labels + transform into one-hot encoded labels\n",
    "    # print(lb.classes_)\n",
    "    # testy = lb.transform(testy)         # transform = perform the one-hot encoding (unique class labels already found)\n",
    "    # print(testy.shape)\n",
    "    return trainX, trainy, testX, testy"
   ]
  },
  {
   "cell_type": "code",
   "execution_count": 53,
   "metadata": {},
   "outputs": [],
   "source": [
    "trainX, trainY, testX, testY = load_dataset()"
   ]
  },
  {
   "cell_type": "code",
   "execution_count": 64,
   "metadata": {},
   "outputs": [
    {
     "data": {
      "text/plain": [
       "(420, 233, 36)"
      ]
     },
     "execution_count": 64,
     "metadata": {},
     "output_type": "execute_result"
    }
   ],
   "source": [
    "trainX.shape"
   ]
  },
  {
   "cell_type": "code",
   "execution_count": 30,
   "metadata": {},
   "outputs": [],
   "source": [
    "# Flatten the 2D sEMG data into 1D\n",
    "# train_data_flat = trainX.reshape(trainX.shape[0], -1)\n",
    "# test_data_flat = testX.reshape(testX.shape[0], -1)"
   ]
  },
  {
   "cell_type": "code",
   "execution_count": null,
   "metadata": {},
   "outputs": [],
   "source": [
    "trainX[0,0,:]"
   ]
  },
  {
   "cell_type": "code",
   "execution_count": 54,
   "metadata": {},
   "outputs": [
    {
     "data": {
      "text/plain": [
       "(97860, 36)"
      ]
     },
     "execution_count": 54,
     "metadata": {},
     "output_type": "execute_result"
    }
   ],
   "source": [
    "new_train_X = trainX.reshape((trainX.shape[0]*trainX.shape[1]), trainX.shape[2])\n",
    "# new_img = new_img.transpose()\n",
    "new_test_X = testX.reshape((testX.shape[0]*testX.shape[1]), testX.shape[2])\n",
    "\n",
    "new_train_X.shape"
   ]
  },
  {
   "cell_type": "code",
   "execution_count": null,
   "metadata": {},
   "outputs": [],
   "source": [
    "new_train_X[932,:]"
   ]
  },
  {
   "cell_type": "code",
   "execution_count": 56,
   "metadata": {},
   "outputs": [],
   "source": [
    "n = 233\n",
    "new_train_y = [item for item in trainY for i in range(n)]\n",
    "new_test_y = [item for item in testY for i in range(n)]"
   ]
  },
  {
   "cell_type": "code",
   "execution_count": 84,
   "metadata": {},
   "outputs": [
    {
     "data": {
      "text/plain": [
       "'0'"
      ]
     },
     "execution_count": 84,
     "metadata": {},
     "output_type": "execute_result"
    }
   ],
   "source": [
    "new_train_y[932]"
   ]
  },
  {
   "cell_type": "code",
   "execution_count": 59,
   "metadata": {},
   "outputs": [
    {
     "name": "stdout",
     "output_type": "stream",
     "text": [
      "(97860, 36) 97860 (22368, 36) 22368\n"
     ]
    }
   ],
   "source": [
    "print(new_train_X.shape, len(new_train_y), new_test_X.shape, len(new_test_y))"
   ]
  },
  {
   "cell_type": "code",
   "execution_count": 61,
   "metadata": {},
   "outputs": [
    {
     "name": "stdout",
     "output_type": "stream",
     "text": [
      "Test accuracy: 0.5261981402002861\n"
     ]
    }
   ],
   "source": [
    "# Create an SVM classifier\n",
    "clf = svm.SVC(kernel='rbf')\n",
    "\n",
    "\n",
    "# Train the SVM classifier\n",
    "clf.fit(new_train_X, new_train_y)\n",
    "\n",
    "# Predict labels for test data\n",
    "pred_labels = clf.predict(new_test_X)\n",
    "\n",
    "# Calculate accuracy\n",
    "accuracy = accuracy_score(new_test_y, pred_labels)\n",
    "print(\"Test accuracy:\", accuracy)"
   ]
  },
  {
   "cell_type": "code",
   "execution_count": 63,
   "metadata": {},
   "outputs": [],
   "source": [
    "p = clf.predict(new_train_X)\n",
    "a = accuracy_score(new_train_y, p)"
   ]
  },
  {
   "cell_type": "code",
   "execution_count": 65,
   "metadata": {},
   "outputs": [
    {
     "data": {
      "text/plain": [
       "0.7881054567749847"
      ]
     },
     "execution_count": 65,
     "metadata": {},
     "output_type": "execute_result"
    }
   ],
   "source": [
    "a"
   ]
  }
 ],
 "metadata": {
  "interpreter": {
   "hash": "29a7966583b0b2ad87848747d2f1f83a10cc03f6049091bc28efd819332d7a5b"
  },
  "kernelspec": {
   "display_name": "Python 3.9.16 ('syde660')",
   "language": "python",
   "name": "python3"
  },
  "language_info": {
   "codemirror_mode": {
    "name": "ipython",
    "version": 3
   },
   "file_extension": ".py",
   "mimetype": "text/x-python",
   "name": "python",
   "nbconvert_exporter": "python",
   "pygments_lexer": "ipython3",
   "version": "3.9.16"
  },
  "orig_nbformat": 4
 },
 "nbformat": 4,
 "nbformat_minor": 2
}
