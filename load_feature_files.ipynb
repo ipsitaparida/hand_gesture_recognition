{
 "cells": [
  {
   "cell_type": "code",
   "execution_count": 1,
   "metadata": {},
   "outputs": [],
   "source": [
    "import scipy.io\n",
    "import numpy as np\n",
    "from sklearn.preprocessing import scale, LabelBinarizer\n",
    "from sklearn.model_selection import train_test_split"
   ]
  },
  {
   "cell_type": "markdown",
   "metadata": {},
   "source": [
    "Understanding the dataset"
   ]
  },
  {
   "cell_type": "code",
   "execution_count": 5,
   "metadata": {},
   "outputs": [
    {
     "name": "stdout",
     "output_type": "stream",
     "text": [
      "EMG_DATA SHAPE:  (3, 43, 16)\n",
      "Data has:        3 Days 43 Subjects 16 Gestures\n",
      "Each Day has:    3 x 43 = 129 Trials\n",
      "Each Trial has:  233 Samples 36 Features\n"
     ]
    }
   ],
   "source": [
    "def load_data():\n",
    "    emg_data = []\n",
    "    for day in range(1, 4): # range(1, 4) for reading all the data files\n",
    "        fnames = \"data/wrist_fdt_day\" + str(day) + \".mat\"\n",
    "        mat = scipy.io.loadmat(fnames)\n",
    "        emg_data.append(mat.get(\"FeatSet\"))\n",
    "\n",
    "    emg_data = np.array(emg_data)\n",
    "    print('EMG_DATA SHAPE: ', emg_data.shape)\n",
    "\n",
    "    print(\"Data has:       \", str(emg_data.shape[0]), \"Days\", str(emg_data.shape[1]), \"Subjects\",\n",
    "          str(emg_data.shape[2]),\n",
    "          \"Gestures\")\n",
    "    print(\"Each Day has:   \", str(emg_data.shape[0]), \"x\", str(emg_data.shape[1]), \"=\",\n",
    "          str(emg_data.shape[0] * emg_data.shape[1]), \"Trials\")\n",
    "    print(\"Each Trial has: \", str(emg_data[0, 0, 0].shape[0]), \"Samples\", str(emg_data[0, 0, 0].shape[1]), \"Features\")\n",
    "    # return emg_data\n",
    "load_data()"
   ]
  },
  {
   "cell_type": "markdown",
   "metadata": {},
   "source": [
    "(Option 1) Run below code if train test split are random. \n",
    "Concate data from all trials into one. New data is (3*43, 16)"
   ]
  },
  {
   "cell_type": "code",
   "execution_count": 6,
   "metadata": {},
   "outputs": [],
   "source": [
    "emg_data = np.empty((0, 16))\n",
    "for day in range(1, 4):\n",
    "    fnames = \"data/wrist_fdt_day\" + str(day) + \".mat\"\n",
    "    mat = scipy.io.loadmat(fnames)\n",
    "    reading = mat.get(\"FeatSet\")\n",
    "    emg_data = np.append(emg_data, reading, axis = 0)"
   ]
  },
  {
   "cell_type": "code",
   "execution_count": 7,
   "metadata": {},
   "outputs": [
    {
     "name": "stdout",
     "output_type": "stream",
     "text": [
      "(129, 16)\n",
      "(233, 36)\n",
      "<class 'numpy.ndarray'>\n"
     ]
    }
   ],
   "source": [
    "print(emg_data.shape)\n",
    "print(emg_data[0,0].shape)\n",
    "print(type(emg_data))"
   ]
  },
  {
   "cell_type": "code",
   "execution_count": 43,
   "metadata": {},
   "outputs": [],
   "source": [
    "# Full dataset with 16 gestures\n",
    "scipy.io.savemat('data/data_16.mat', {'feat': emg_data})"
   ]
  },
  {
   "cell_type": "code",
   "execution_count": 44,
   "metadata": {},
   "outputs": [
    {
     "name": "stdout",
     "output_type": "stream",
     "text": [
      "(129, 4)\n"
     ]
    }
   ],
   "source": [
    "# partial dataset with 4 gestures\n",
    "partial_emg_data = emg_data[:, 0:4]\n",
    "scipy.io.savemat('data/data_4.mat', {'feat': partial_emg_data})"
   ]
  },
  {
   "cell_type": "markdown",
   "metadata": {},
   "source": [
    "(Option 2) Run this if training is done for 35 participants and tested on 8 participants."
   ]
  },
  {
   "cell_type": "code",
   "execution_count": 3,
   "metadata": {},
   "outputs": [],
   "source": [
    "emg_data_train = np.empty((0, 16))\n",
    "emg_data_test = np.empty((0, 16))\n",
    "for day in range(1, 4):\n",
    "    fnames = \"data/wrist_fdt_day\" + str(day) + \".mat\"\n",
    "    mat = scipy.io.loadmat(fnames)\n",
    "    reading = mat.get(\"FeatSet\")\n",
    "    emg_data_train = np.append(emg_data_train, reading[:35,:], axis = 0) # shape is (105, 16)\n",
    "    emg_data_test = np.append(emg_data_test, reading[-8:,:], axis = 0) # shape is (24, 16)"
   ]
  },
  {
   "cell_type": "code",
   "execution_count": 6,
   "metadata": {},
   "outputs": [
    {
     "data": {
      "text/plain": [
       "(105, 16)"
      ]
     },
     "execution_count": 6,
     "metadata": {},
     "output_type": "execute_result"
    }
   ],
   "source": [
    "emg_data_train.shape"
   ]
  },
  {
   "cell_type": "code",
   "execution_count": 14,
   "metadata": {},
   "outputs": [],
   "source": [
    "#  Dataset with 16 gestures\n",
    "scipy.io.savemat('data/train_16.mat', {'feat': emg_data_train})\n",
    "scipy.io.savemat('data/test_16.mat', {'feat': emg_data_test})\n",
    "# partial train dataset with 4 gestures\n",
    "scipy.io.savemat('data/train_4.mat', {'feat': emg_data_train[:, 0:4]})\n",
    "scipy.io.savemat('data/test_4.mat', {'feat': emg_data_test[:, 0:4]})\n"
   ]
  },
  {
   "cell_type": "markdown",
   "metadata": {},
   "source": [
    "Read each cell. Column number represents the class label(gesture)"
   ]
  },
  {
   "cell_type": "code",
   "execution_count": 18,
   "metadata": {},
   "outputs": [
    {
     "data": {
      "text/plain": [
       "'\\ndataset = partial_emg_data # or emg_data\\ndata = []\\nlabels = []\\nfor i, entry in np.ndenumerate(dataset):\\n    data.append(dataset[i[0],i[1]])\\n    labels.append(i[1])\\n'"
      ]
     },
     "execution_count": 18,
     "metadata": {},
     "output_type": "execute_result"
    }
   ],
   "source": [
    "#which dataset? Either option 1 or option 2. Then select correct variable based on number of features you want to train on. Either 4 or 16\n",
    "dataset = emg_data_train[:, 0:4] # or use emg_data_train for using all 16 gestures\n",
    "trainX = []\n",
    "trainY = []\n",
    "for i, entry in np.ndenumerate(dataset):\n",
    "    # i is a tuple of (row, column)\n",
    "    # save readings into data array\n",
    "    trainX.append(dataset[i[0],i[1]])\n",
    "    # gesture class is put into labels array\n",
    "    trainY.append(i[1])\n",
    "\n",
    "# similarly do for the test data\n",
    "dataset = emg_data_test[:, 0:4] # or use emg_data_test for using all 16 gestures\n",
    "testX = []\n",
    "testY = []\n",
    "for i, entry in np.ndenumerate(dataset):\n",
    "    testX.append(dataset[i[0],i[1]])\n",
    "    testY.append(i[1])\n",
    "\n",
    "# USE THIS for Option 1\n",
    "'''\n",
    "dataset = partial_emg_data # or emg_data\n",
    "data = []\n",
    "labels = []\n",
    "for i, entry in np.ndenumerate(dataset):\n",
    "    data.append(dataset[i[0],i[1]])\n",
    "    labels.append(i[1])\n",
    "'''"
   ]
  },
  {
   "cell_type": "markdown",
   "metadata": {},
   "source": [
    "DOES THE DATA NEED NORMALIZATION ?"
   ]
  },
  {
   "cell_type": "markdown",
   "metadata": {},
   "source": [
    "Train and Test data when using Option 1- full dataset"
   ]
  },
  {
   "cell_type": "code",
   "execution_count": 61,
   "metadata": {},
   "outputs": [],
   "source": [
    "# Split the data into trainign and testing \n",
    "# (trainX, testX, trainY, testY) = train_test_split(data, labels, test_size=0.2)"
   ]
  }
 ],
 "metadata": {
  "interpreter": {
   "hash": "0ecc5173e59f86e4f06b6e4f247af3666d8e121b00fcf891f2eafc4325052d6e"
  },
  "kernelspec": {
   "display_name": "Python 3.9.13 ('base')",
   "language": "python",
   "name": "python3"
  },
  "language_info": {
   "codemirror_mode": {
    "name": "ipython",
    "version": 3
   },
   "file_extension": ".py",
   "mimetype": "text/x-python",
   "name": "python",
   "nbconvert_exporter": "python",
   "pygments_lexer": "ipython3",
   "version": "3.9.16"
  },
  "orig_nbformat": 4
 },
 "nbformat": 4,
 "nbformat_minor": 2
}
